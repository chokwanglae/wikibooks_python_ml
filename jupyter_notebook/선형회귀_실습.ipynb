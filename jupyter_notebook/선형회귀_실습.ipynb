{
 "cells": [
  {
   "cell_type": "markdown",
   "metadata": {},
   "source": [
    "# 선형 회귀\n",
    "y = wx의 형태를 갖는 간단한 선형 회귀를 실습해보겠습니다."
   ]
  },
  {
   "cell_type": "code",
   "execution_count": 1,
   "metadata": {},
   "outputs": [
    {
     "name": "stderr",
     "output_type": "stream",
     "text": [
      "Using TensorFlow backend.\n"
     ]
    }
   ],
   "source": [
    "from keras import optimizers\n",
    "from keras.models import Sequential\n",
    "from keras.layers import Dense\n",
    "import numpy as np\n",
    "import matplotlib.pyplot as plt\n",
    "%matplotlib inline"
   ]
  },
  {
   "cell_type": "markdown",
   "metadata": {},
   "source": [
    "# 데이터 생성하기\n",
    "numpy를 활용하여 간단하게 선형 회귀 데이터를 생성합니다.  \n",
    "x값에 따른 y값은 해당 x값에 랜덤 노이즈를 더하여, 회귀 계산에 적합한 분포의 데이터로 생성합니다."
   ]
  },
  {
   "cell_type": "code",
   "execution_count": 2,
   "metadata": {},
   "outputs": [],
   "source": [
    "X = np.linspace(0, 10, 10)\n",
    "Y = X + np.random.randn(*X.shape) # create a y value which is approximately linear but with some random noise"
   ]
  },
  {
   "cell_type": "markdown",
   "metadata": {},
   "source": [
    "# 데이터 조회\n",
    "아래의 코드를 통해 임의로 생성된 데이터를 조회할 수 있습니다.  \n",
    "하나의 함수로 얻을 수 없는, x에 해당하는 y값을 볼 수 있습니다.  \n",
    "선형 회귀를 통해, 아래 데이터 분포에 가장 적합한 (약간의 에러를 허용하는)  \n",
    "w를 찾도록 하겠습니다."
   ]
  },
  {
   "cell_type": "code",
   "execution_count": 3,
   "metadata": {},
   "outputs": [
    {
     "name": "stdout",
     "output_type": "stream",
     "text": [
      "(0.0, -0.3)\n",
      "(1.1, 0.9)\n",
      "(2.2, 1.8)\n",
      "(3.3, 3.8)\n",
      "(4.4, 5.3)\n",
      "(5.6, 4.9)\n",
      "(6.7, 7.2)\n",
      "(7.8, 9.0)\n",
      "(8.9, 9.1)\n",
      "(10.0, 10.5)\n"
     ]
    }
   ],
   "source": [
    "for x, y in zip(X,Y):\n",
    "    print((round(x,1), round(y,1)))"
   ]
  },
  {
   "cell_type": "markdown",
   "metadata": {},
   "source": [
    "# 선형 회귀 모델 만들기\n",
    "Keras의 Sequential을 사용하면, 단 몇줄로 선형 회귀 모델을 만들 수 있습니다.  \n",
    "y=wx의 모델을 만들 것이기 때문에 input_dim (인풋 벡터의 차원)은 1입니다.  \n",
    "단순히 위에서 생성한 x 데이터가 들어간다고 보시면 됩니다. \n",
    "\n",
    "units=1은 아웃풋이 1차원이라는 뜻입니다. 즉 y에 대한 예측이 하나의 숫자로 나타내어진다는 뜻입니다.  \n",
    "activation=\"linear\"는 activation 함수가 없다 또는 선형이라는 뜻입니다.  \n",
    "보통 딥러닝에서는 비선형의 activation 함수가 사용되지만 선형회귀에서는 비선형 activation함수가  \n",
    "사용되지 않습니다.\n",
    "use_bias=False는 bias를 사용하지 않겠다는 의미입니다. y=wx라는 가정하에 만드는 선형 회귀이므로,  \n",
    "특별히 bias가 필요 없습니다. 단 y = wx+b라고 가정을 했다면, use_bias=True로 설정하시면 됩니다."
   ]
  },
  {
   "cell_type": "code",
   "execution_count": 9,
   "metadata": {},
   "outputs": [],
   "source": [
    "model = Sequential()\n",
    "model.add(Dense(input_dim=1, units=1, activation=\"linear\", use_bias=False))"
   ]
  },
  {
   "cell_type": "markdown",
   "metadata": {},
   "source": [
    "경사하강법 (gradient descent)로 선형회귀 함수를 구합니다.  \n",
    "learning rate은 0.01로 지정하였으며, 비용 함수는 평균 제곱 오차 (mse: Mean Squared Error)를 사용합니다."
   ]
  },
  {
   "cell_type": "code",
   "execution_count": 10,
   "metadata": {},
   "outputs": [],
   "source": [
    "sgd = optimizers.SGD(lr=0.01)\n",
    "model.compile(optimizer='sgd', loss='mse')"
   ]
  },
  {
   "cell_type": "markdown",
   "metadata": {},
   "source": [
    "선형 회귀 모델을 학습하기 전에, 먼저 최초로 설정된 w(기울기)를 조회해보도록 하겠습니다."
   ]
  },
  {
   "cell_type": "code",
   "execution_count": 12,
   "metadata": {},
   "outputs": [
    {
     "name": "stdout",
     "output_type": "stream",
     "text": [
      "initial w is : 0.23641932\n"
     ]
    }
   ],
   "source": [
    "weights = model.layers[0].get_weights()\n",
    "w = weights[0][0][0]\n",
    "\n",
    "print('initial w is : ' + str(w))"
   ]
  },
  {
   "cell_type": "markdown",
   "metadata": {},
   "source": [
    "# 선형 회귀 모델 학습\n",
    "아래의 코드를 실행하여 학습합니다.  \n",
    "총 10개의 데이터가 있으므로, batch_size를 10으로 설정하여 batch gradient descent를 실행합니다.  \n",
    "epochs=10은 총 10번 반복 수행하여 모델을 학습한다는 뜻입니다."
   ]
  },
  {
   "cell_type": "code",
   "execution_count": 18,
   "metadata": {},
   "outputs": [
    {
     "name": "stdout",
     "output_type": "stream",
     "text": [
      "Epoch 1/10\n",
      "10/10 [==============================] - 0s 431us/step - loss: 0.2467\n",
      "Epoch 2/10\n",
      "10/10 [==============================] - 0s 358us/step - loss: 0.2467\n",
      "Epoch 3/10\n",
      "10/10 [==============================] - 0s 249us/step - loss: 0.2467\n",
      "Epoch 4/10\n",
      "10/10 [==============================] - 0s 175us/step - loss: 0.2467\n",
      "Epoch 5/10\n",
      "10/10 [==============================] - 0s 247us/step - loss: 0.2467\n",
      "Epoch 6/10\n",
      "10/10 [==============================] - 0s 246us/step - loss: 0.2467\n",
      "Epoch 7/10\n",
      "10/10 [==============================] - 0s 218us/step - loss: 0.2467\n",
      "Epoch 8/10\n",
      "10/10 [==============================] - 0s 202us/step - loss: 0.2467\n",
      "Epoch 9/10\n",
      "10/10 [==============================] - 0s 299us/step - loss: 0.2467\n",
      "Epoch 10/10\n",
      "10/10 [==============================] - 0s 187us/step - loss: 0.2467\n"
     ]
    },
    {
     "data": {
      "text/plain": [
       "<keras.callbacks.History at 0x181f1f7550>"
      ]
     },
     "execution_count": 18,
     "metadata": {},
     "output_type": "execute_result"
    }
   ],
   "source": [
    "# Train\n",
    "model.fit(X, Y, batch_size=10,epochs=10, verbose=1)"
   ]
  },
  {
   "cell_type": "markdown",
   "metadata": {},
   "source": [
    "학습된 선형 회귀 모델의, w(기울기)를 조회해보도록 하겠습니다."
   ]
  },
  {
   "cell_type": "code",
   "execution_count": 21,
   "metadata": {},
   "outputs": [
    {
     "name": "stdout",
     "output_type": "stream",
     "text": [
      "trained w is : 1.0592353\n"
     ]
    }
   ],
   "source": [
    "weights = model.layers[0].get_weights()\n",
    "w = weights[0][0][0]\n",
    "\n",
    "print('trained w is : ' + str(w))"
   ]
  },
  {
   "cell_type": "markdown",
   "metadata": {},
   "source": [
    "# 선형회귀 시각화\n",
    "아래의 코드를 선형 회귀 모델을 시각화할 수 있습니다.  \n",
    "x값에 해당하는 선형 모델의 예측값이 우리가 랜덤으로 생성한 데이터 y와 상당히 비슷합니다.  \n",
    "이처럼 관찰된 데이터를 통해 얻어진 데이터 분포의 패턴을 파악하는 것을 선형 회귀라 하며,    \n",
    "이를 통해 관찰되지 않은 데이터에 대한 예측을 하는 것이 선형 회귀의 목적이라고 할 수 있습니다."
   ]
  },
  {
   "cell_type": "code",
   "execution_count": 15,
   "metadata": {},
   "outputs": [
    {
     "data": {
      "image/png": "[encoded data removed]",
      "text/plain": [
       "<Figure size 432x288 with 1 Axes>"
      ]
     },
     "metadata": {},
     "output_type": "display_data"
    }
   ],
   "source": [
    "plt.plot(X, Y, label='data')\n",
    "plt.plot(X, w*X, label='prediction')\n",
    "plt.legend()\n",
    "plt.show()"
   ]
  }
 ],
 "metadata": {
  "kernelspec": {
   "display_name": "Python 3",
   "language": "python",
   "name": "python3"
  },
  "language_info": {
   "codemirror_mode": {
    "name": "ipython",
    "version": 3
   },
   "file_extension": ".py",
   "mimetype": "text/x-python",
   "name": "python",
   "nbconvert_exporter": "python",
   "pygments_lexer": "ipython3",
   "version": "3.6.4"
  }
 },
 "nbformat": 4,
 "nbformat_minor": 2
}
